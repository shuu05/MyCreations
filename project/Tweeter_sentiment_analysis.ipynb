{
  "nbformat": 4,
  "nbformat_minor": 0,
  "metadata": {
    "colab": {
      "name": "Tweeter sentiment analysis.ipynb",
      "provenance": []
    },
    "kernelspec": {
      "name": "python3",
      "display_name": "Python 3"
    },
    "language_info": {
      "name": "python"
    }
  },
  "cells": [
    {
      "cell_type": "code",
      "metadata": {
        "id": "vwd_W9xEqR-k"
      },
      "source": [
        "import tweepy\n",
        "from textblob import TextBlob\n",
        "from wordcloud import WordCloud\n",
        "import pandas as pd\n",
        "import numpy as np\n",
        "import re\n",
        "import matplotlib.pyplot as plt\n",
        "%matplotlib inline"
      ],
      "execution_count": 13,
      "outputs": []
    },
    {
      "cell_type": "code",
      "metadata": {
        "id": "xY-MqizirRg_"
      },
      "source": [
        "plt.style.use('fivethirtyeight')"
      ],
      "execution_count": 2,
      "outputs": []
    },
    {
      "cell_type": "code",
      "metadata": {
        "id": "DGgeF8R3rctO"
      },
      "source": [
        "consumerkey='cZ6vrfi5xN7a0bJYSWzxVgHt4'\n",
        "consumersecret='EuodJCHst8xTo75QXRicsZw8h1vG1SM8TomPevReX3v8u0nhHO'\n",
        "accesstoken='1374457787896401921-4ildIH69y1WJdKa4pTSG1mgac3ITCx'\n",
        "accesskey='jW3Zi9iw1mdHziYk5bf0hnb4L4ASVQ5bh24EYIVqH1OeY'"
      ],
      "execution_count": 3,
      "outputs": []
    },
    {
      "cell_type": "code",
      "metadata": {
        "id": "k7z5C6KYtl-U"
      },
      "source": [
        "#authentication object\n",
        "authenticate = tweepy.OAuthHandler(consumer_key=consumerkey,consumer_secret=consumersecret)\n",
        "\n",
        "#access token\n",
        "authenticate.set_access_token(accesstoken, accesskey)\n",
        "\n",
        "#creating api object\n",
        "api = tweepy.API(authenticate,wait_on_rate_limit=True)"
      ],
      "execution_count": 4,
      "outputs": []
    },
    {
      "cell_type": "code",
      "metadata": {
        "colab": {
          "base_uri": "https://localhost:8080/"
        },
        "id": "SbXueJCyu8DT",
        "outputId": "357b31dd-5829-4b08-ac44-f83061066837"
      },
      "source": [
        "#extract 100 tweets from tweeter user\n",
        "posts = api.user_timeline(screen_name=\"BillGates\", count=100, lang=\"en\", tweet_mode=\"extended\")\n",
        "\n",
        "#print last 5 tweets from above account\n",
        "print(\"5 recent tweets: \\n\")\n",
        "for tweet in posts[0:5]:\n",
        "  print(tweet.full_text + '\\n')"
      ],
      "execution_count": 5,
      "outputs": [
        {
          "output_type": "stream",
          "text": [
            "5 recent tweets: \n",
            "\n",
            "Here are five things you should know if you want to understand how variants are (and aren’t) complicating the pandemic. https://t.co/rANiDcZynJ\n",
            "\n",
            "RT @IFPRI: 💡 From #climateadaptation to #genderequality, discover @CGIAR’s 50 years of innovations that changed the world 🌎 🎉: https://t.co…\n",
            "\n",
            "The technological transformation we need to address climate change can create good, safe jobs and build a more equitable, prosperous economy. To make that happen, we need to think big: https://t.co/jFWTPyaOAq https://t.co/PR5sxI7aDt\n",
            "\n",
            "I had a great time answering questions about my new book, climate change, and COVID-19 on @reddit last week. Here’s a recap of the conversation. https://t.co/Kvd2blqXkL\n",
            "\n",
            "RT @WHO: It's #WorldTBDay\n",
            "\n",
            "Even as we battle #COVID19, we must not ease up the fight against #Tuberculosis, which remains the 🌎🌍🌏’s deadlie…\n",
            "\n"
          ],
          "name": "stdout"
        }
      ]
    },
    {
      "cell_type": "code",
      "metadata": {
        "colab": {
          "base_uri": "https://localhost:8080/",
          "height": 195
        },
        "id": "m1eky8RawJfC",
        "outputId": "7cc2d17c-71f7-4336-e179-8cf1157cf8a2"
      },
      "source": [
        "df = pd.DataFrame([tweet.full_text for tweet in posts], columns=['Tweets'])\n",
        "df.head()"
      ],
      "execution_count": 6,
      "outputs": [
        {
          "output_type": "execute_result",
          "data": {
            "text/html": [
              "<div>\n",
              "<style scoped>\n",
              "    .dataframe tbody tr th:only-of-type {\n",
              "        vertical-align: middle;\n",
              "    }\n",
              "\n",
              "    .dataframe tbody tr th {\n",
              "        vertical-align: top;\n",
              "    }\n",
              "\n",
              "    .dataframe thead th {\n",
              "        text-align: right;\n",
              "    }\n",
              "</style>\n",
              "<table border=\"1\" class=\"dataframe\">\n",
              "  <thead>\n",
              "    <tr style=\"text-align: right;\">\n",
              "      <th></th>\n",
              "      <th>Tweets</th>\n",
              "    </tr>\n",
              "  </thead>\n",
              "  <tbody>\n",
              "    <tr>\n",
              "      <th>0</th>\n",
              "      <td>Here are five things you should know if you wa...</td>\n",
              "    </tr>\n",
              "    <tr>\n",
              "      <th>1</th>\n",
              "      <td>RT @IFPRI: 💡 From #climateadaptation to #gende...</td>\n",
              "    </tr>\n",
              "    <tr>\n",
              "      <th>2</th>\n",
              "      <td>The technological transformation we need to ad...</td>\n",
              "    </tr>\n",
              "    <tr>\n",
              "      <th>3</th>\n",
              "      <td>I had a great time answering questions about m...</td>\n",
              "    </tr>\n",
              "    <tr>\n",
              "      <th>4</th>\n",
              "      <td>RT @WHO: It's #WorldTBDay\\n\\nEven as we battle...</td>\n",
              "    </tr>\n",
              "  </tbody>\n",
              "</table>\n",
              "</div>"
            ],
            "text/plain": [
              "                                              Tweets\n",
              "0  Here are five things you should know if you wa...\n",
              "1  RT @IFPRI: 💡 From #climateadaptation to #gende...\n",
              "2  The technological transformation we need to ad...\n",
              "3  I had a great time answering questions about m...\n",
              "4  RT @WHO: It's #WorldTBDay\\n\\nEven as we battle..."
            ]
          },
          "metadata": {
            "tags": []
          },
          "execution_count": 6
        }
      ]
    },
    {
      "cell_type": "markdown",
      "metadata": {
        "id": "UP4iE2WExEJX"
      },
      "source": [
        "# cleaning the text"
      ]
    },
    {
      "cell_type": "code",
      "metadata": {
        "id": "I92ySx3xw43c"
      },
      "source": [
        "def clean_txt(text):\n",
        "  text = re.sub(r'@[A-Za-z0-9]+','', text)\n",
        "  text = re.sub(r'#','',text)\n",
        "  text = re.sub(r'RT[\\s]+','',text)\n",
        "  text = re.sub(r'https?:\\/\\/\\S','',text)\n",
        "  return text"
      ],
      "execution_count": 7,
      "outputs": []
    },
    {
      "cell_type": "code",
      "metadata": {
        "colab": {
          "base_uri": "https://localhost:8080/",
          "height": 402
        },
        "id": "3kR93rE_1UZC",
        "outputId": "399f362a-4098-42ac-dfd1-eb43f62c637e"
      },
      "source": [
        "df['Tweets'] = df['Tweets'].apply(clean_txt)\n",
        "df"
      ],
      "execution_count": 8,
      "outputs": [
        {
          "output_type": "execute_result",
          "data": {
            "text/html": [
              "<div>\n",
              "<style scoped>\n",
              "    .dataframe tbody tr th:only-of-type {\n",
              "        vertical-align: middle;\n",
              "    }\n",
              "\n",
              "    .dataframe tbody tr th {\n",
              "        vertical-align: top;\n",
              "    }\n",
              "\n",
              "    .dataframe thead th {\n",
              "        text-align: right;\n",
              "    }\n",
              "</style>\n",
              "<table border=\"1\" class=\"dataframe\">\n",
              "  <thead>\n",
              "    <tr style=\"text-align: right;\">\n",
              "      <th></th>\n",
              "      <th>Tweets</th>\n",
              "    </tr>\n",
              "  </thead>\n",
              "  <tbody>\n",
              "    <tr>\n",
              "      <th>0</th>\n",
              "      <td>Here are five things you should know if you wa...</td>\n",
              "    </tr>\n",
              "    <tr>\n",
              "      <th>1</th>\n",
              "      <td>: 💡 From climateadaptation to genderequality, ...</td>\n",
              "    </tr>\n",
              "    <tr>\n",
              "      <th>2</th>\n",
              "      <td>The technological transformation we need to ad...</td>\n",
              "    </tr>\n",
              "    <tr>\n",
              "      <th>3</th>\n",
              "      <td>I had a great time answering questions about m...</td>\n",
              "    </tr>\n",
              "    <tr>\n",
              "      <th>4</th>\n",
              "      <td>: It's WorldTBDay\\n\\nEven as we battle COVID19...</td>\n",
              "    </tr>\n",
              "    <tr>\n",
              "      <th>...</th>\n",
              "      <td>...</td>\n",
              "    </tr>\n",
              "    <tr>\n",
              "      <th>95</th>\n",
              "      <td>This the most important thing the U.S. can do ...</td>\n",
              "    </tr>\n",
              "    <tr>\n",
              "      <th>96</th>\n",
              "      <td>I’m inspired by Quarraisha Abdool Karim and . ...</td>\n",
              "    </tr>\n",
              "    <tr>\n",
              "      <th>97</th>\n",
              "      <td>: My parents taught me to leave the world bett...</td>\n",
              "    </tr>\n",
              "    <tr>\n",
              "      <th>98</th>\n",
              "      <td>I’m a big fan of author _yuval and was excited...</td>\n",
              "    </tr>\n",
              "    <tr>\n",
              "      <th>99</th>\n",
              "      <td>: “I will continue fighting. I will continue s...</td>\n",
              "    </tr>\n",
              "  </tbody>\n",
              "</table>\n",
              "<p>100 rows × 1 columns</p>\n",
              "</div>"
            ],
            "text/plain": [
              "                                               Tweets\n",
              "0   Here are five things you should know if you wa...\n",
              "1   : 💡 From climateadaptation to genderequality, ...\n",
              "2   The technological transformation we need to ad...\n",
              "3   I had a great time answering questions about m...\n",
              "4   : It's WorldTBDay\\n\\nEven as we battle COVID19...\n",
              "..                                                ...\n",
              "95  This the most important thing the U.S. can do ...\n",
              "96  I’m inspired by Quarraisha Abdool Karim and . ...\n",
              "97  : My parents taught me to leave the world bett...\n",
              "98  I’m a big fan of author _yuval and was excited...\n",
              "99  : “I will continue fighting. I will continue s...\n",
              "\n",
              "[100 rows x 1 columns]"
            ]
          },
          "metadata": {
            "tags": []
          },
          "execution_count": 8
        }
      ]
    },
    {
      "cell_type": "code",
      "metadata": {
        "colab": {
          "base_uri": "https://localhost:8080/",
          "height": 402
        },
        "id": "gxGa3lpb1knb",
        "outputId": "835133ef-9418-4674-ff4e-7a2fe9a3421d"
      },
      "source": [
        "# creating the function to get the subjectivity\n",
        "def get_subjectivity(text):\n",
        "  return TextBlob(text).sentiment.subjectivity\n",
        "\n",
        "\n",
        "# creating function to get the polarity\n",
        "\n",
        "def get_polarity(text):\n",
        "  return TextBlob(text).sentiment.polarity\n",
        "\n",
        "# creating two new columns\n",
        "\n",
        "df['Subjectivity'] = df['Tweets'].apply(get_subjectivity)\n",
        "df['Polarity'] = df['Tweets'].apply(get_polarity)\n",
        "\n",
        "df"
      ],
      "execution_count": 10,
      "outputs": [
        {
          "output_type": "execute_result",
          "data": {
            "text/html": [
              "<div>\n",
              "<style scoped>\n",
              "    .dataframe tbody tr th:only-of-type {\n",
              "        vertical-align: middle;\n",
              "    }\n",
              "\n",
              "    .dataframe tbody tr th {\n",
              "        vertical-align: top;\n",
              "    }\n",
              "\n",
              "    .dataframe thead th {\n",
              "        text-align: right;\n",
              "    }\n",
              "</style>\n",
              "<table border=\"1\" class=\"dataframe\">\n",
              "  <thead>\n",
              "    <tr style=\"text-align: right;\">\n",
              "      <th></th>\n",
              "      <th>Tweets</th>\n",
              "      <th>Subjectivity</th>\n",
              "      <th>Polarity</th>\n",
              "    </tr>\n",
              "  </thead>\n",
              "  <tbody>\n",
              "    <tr>\n",
              "      <th>0</th>\n",
              "      <td>Here are five things you should know if you wa...</td>\n",
              "      <td>0.000000</td>\n",
              "      <td>0.000000</td>\n",
              "    </tr>\n",
              "    <tr>\n",
              "      <th>1</th>\n",
              "      <td>: 💡 From climateadaptation to genderequality, ...</td>\n",
              "      <td>0.000000</td>\n",
              "      <td>0.000000</td>\n",
              "    </tr>\n",
              "    <tr>\n",
              "      <th>2</th>\n",
              "      <td>The technological transformation we need to ad...</td>\n",
              "      <td>0.425000</td>\n",
              "      <td>0.425000</td>\n",
              "    </tr>\n",
              "    <tr>\n",
              "      <th>3</th>\n",
              "      <td>I had a great time answering questions about m...</td>\n",
              "      <td>0.423737</td>\n",
              "      <td>0.312121</td>\n",
              "    </tr>\n",
              "    <tr>\n",
              "      <th>4</th>\n",
              "      <td>: It's WorldTBDay\\n\\nEven as we battle COVID19...</td>\n",
              "      <td>0.000000</td>\n",
              "      <td>0.000000</td>\n",
              "    </tr>\n",
              "    <tr>\n",
              "      <th>...</th>\n",
              "      <td>...</td>\n",
              "      <td>...</td>\n",
              "      <td>...</td>\n",
              "    </tr>\n",
              "    <tr>\n",
              "      <th>95</th>\n",
              "      <td>This the most important thing the U.S. can do ...</td>\n",
              "      <td>0.750000</td>\n",
              "      <td>0.450000</td>\n",
              "    </tr>\n",
              "    <tr>\n",
              "      <th>96</th>\n",
              "      <td>I’m inspired by Quarraisha Abdool Karim and . ...</td>\n",
              "      <td>0.500000</td>\n",
              "      <td>0.500000</td>\n",
              "    </tr>\n",
              "    <tr>\n",
              "      <th>97</th>\n",
              "      <td>: My parents taught me to leave the world bett...</td>\n",
              "      <td>0.500000</td>\n",
              "      <td>0.500000</td>\n",
              "    </tr>\n",
              "    <tr>\n",
              "      <th>98</th>\n",
              "      <td>I’m a big fan of author _yuval and was excited...</td>\n",
              "      <td>0.533333</td>\n",
              "      <td>0.208333</td>\n",
              "    </tr>\n",
              "    <tr>\n",
              "      <th>99</th>\n",
              "      <td>: “I will continue fighting. I will continue s...</td>\n",
              "      <td>0.312500</td>\n",
              "      <td>0.062500</td>\n",
              "    </tr>\n",
              "  </tbody>\n",
              "</table>\n",
              "<p>100 rows × 3 columns</p>\n",
              "</div>"
            ],
            "text/plain": [
              "                                               Tweets  Subjectivity  Polarity\n",
              "0   Here are five things you should know if you wa...      0.000000  0.000000\n",
              "1   : 💡 From climateadaptation to genderequality, ...      0.000000  0.000000\n",
              "2   The technological transformation we need to ad...      0.425000  0.425000\n",
              "3   I had a great time answering questions about m...      0.423737  0.312121\n",
              "4   : It's WorldTBDay\\n\\nEven as we battle COVID19...      0.000000  0.000000\n",
              "..                                                ...           ...       ...\n",
              "95  This the most important thing the U.S. can do ...      0.750000  0.450000\n",
              "96  I’m inspired by Quarraisha Abdool Karim and . ...      0.500000  0.500000\n",
              "97  : My parents taught me to leave the world bett...      0.500000  0.500000\n",
              "98  I’m a big fan of author _yuval and was excited...      0.533333  0.208333\n",
              "99  : “I will continue fighting. I will continue s...      0.312500  0.062500\n",
              "\n",
              "[100 rows x 3 columns]"
            ]
          },
          "metadata": {
            "tags": []
          },
          "execution_count": 10
        }
      ]
    },
    {
      "cell_type": "code",
      "metadata": {
        "colab": {
          "base_uri": "https://localhost:8080/",
          "height": 248
        },
        "id": "Rj-Mq2iY2Aru",
        "outputId": "359c7d23-fb8a-4f8e-ed2e-e57c34ce0340"
      },
      "source": [
        "# plotting word cloud\n",
        "allwords = ' '.join([twts for twts in df['Tweets']])\n",
        "wordCloud = WordCloud(background_color='black',mode=\"RGB\", width=800, height=800, random_state=21, max_font_size=110).generate(allwords)\n",
        "\n",
        "plt.imshow(wordCloud, interpolation=\"bilinear\")\n",
        "plt.axis('off')\n",
        "plt.show()"
      ],
      "execution_count": 21,
      "outputs": [
        {
          "output_type": "display_data",
          "data": {
            "image/png": "[encoded data removed]",
            "text/plain": [
              "<Figure size 432x288 with 1 Axes>"
            ]
          },
          "metadata": {
            "tags": [],
            "needs_background": "light"
          }
        }
      ]
    },
    {
      "cell_type": "code",
      "metadata": {
        "colab": {
          "base_uri": "https://localhost:8080/",
          "height": 402
        },
        "id": "Ngo6nWal4gVR",
        "outputId": "7740dc34-a7ce-41f1-c689-eccaac6d5dd2"
      },
      "source": [
        "# function to compute positive,negative,neutral analysis\n",
        "\n",
        "def get_analysis(score):\n",
        "  if score < 0:\n",
        "    return 'Negative'\n",
        "  elif score == 0:\n",
        "    return 'Neutral'\n",
        "  else:\n",
        "    return 'Positive'\n",
        "\n",
        "\n",
        "df['Analysis'] = df['Polarity'].apply(get_analysis)\n",
        "\n",
        "\n",
        "df"
      ],
      "execution_count": 22,
      "outputs": [
        {
          "output_type": "execute_result",
          "data": {
            "text/html": [
              "<div>\n",
              "<style scoped>\n",
              "    .dataframe tbody tr th:only-of-type {\n",
              "        vertical-align: middle;\n",
              "    }\n",
              "\n",
              "    .dataframe tbody tr th {\n",
              "        vertical-align: top;\n",
              "    }\n",
              "\n",
              "    .dataframe thead th {\n",
              "        text-align: right;\n",
              "    }\n",
              "</style>\n",
              "<table border=\"1\" class=\"dataframe\">\n",
              "  <thead>\n",
              "    <tr style=\"text-align: right;\">\n",
              "      <th></th>\n",
              "      <th>Tweets</th>\n",
              "      <th>Subjectivity</th>\n",
              "      <th>Polarity</th>\n",
              "      <th>Analysis</th>\n",
              "    </tr>\n",
              "  </thead>\n",
              "  <tbody>\n",
              "    <tr>\n",
              "      <th>0</th>\n",
              "      <td>Here are five things you should know if you wa...</td>\n",
              "      <td>0.000000</td>\n",
              "      <td>0.000000</td>\n",
              "      <td>Neutral</td>\n",
              "    </tr>\n",
              "    <tr>\n",
              "      <th>1</th>\n",
              "      <td>: 💡 From climateadaptation to genderequality, ...</td>\n",
              "      <td>0.000000</td>\n",
              "      <td>0.000000</td>\n",
              "      <td>Neutral</td>\n",
              "    </tr>\n",
              "    <tr>\n",
              "      <th>2</th>\n",
              "      <td>The technological transformation we need to ad...</td>\n",
              "      <td>0.425000</td>\n",
              "      <td>0.425000</td>\n",
              "      <td>Positive</td>\n",
              "    </tr>\n",
              "    <tr>\n",
              "      <th>3</th>\n",
              "      <td>I had a great time answering questions about m...</td>\n",
              "      <td>0.423737</td>\n",
              "      <td>0.312121</td>\n",
              "      <td>Positive</td>\n",
              "    </tr>\n",
              "    <tr>\n",
              "      <th>4</th>\n",
              "      <td>: It's WorldTBDay\\n\\nEven as we battle COVID19...</td>\n",
              "      <td>0.000000</td>\n",
              "      <td>0.000000</td>\n",
              "      <td>Neutral</td>\n",
              "    </tr>\n",
              "    <tr>\n",
              "      <th>...</th>\n",
              "      <td>...</td>\n",
              "      <td>...</td>\n",
              "      <td>...</td>\n",
              "      <td>...</td>\n",
              "    </tr>\n",
              "    <tr>\n",
              "      <th>95</th>\n",
              "      <td>This the most important thing the U.S. can do ...</td>\n",
              "      <td>0.750000</td>\n",
              "      <td>0.450000</td>\n",
              "      <td>Positive</td>\n",
              "    </tr>\n",
              "    <tr>\n",
              "      <th>96</th>\n",
              "      <td>I’m inspired by Quarraisha Abdool Karim and . ...</td>\n",
              "      <td>0.500000</td>\n",
              "      <td>0.500000</td>\n",
              "      <td>Positive</td>\n",
              "    </tr>\n",
              "    <tr>\n",
              "      <th>97</th>\n",
              "      <td>: My parents taught me to leave the world bett...</td>\n",
              "      <td>0.500000</td>\n",
              "      <td>0.500000</td>\n",
              "      <td>Positive</td>\n",
              "    </tr>\n",
              "    <tr>\n",
              "      <th>98</th>\n",
              "      <td>I’m a big fan of author _yuval and was excited...</td>\n",
              "      <td>0.533333</td>\n",
              "      <td>0.208333</td>\n",
              "      <td>Positive</td>\n",
              "    </tr>\n",
              "    <tr>\n",
              "      <th>99</th>\n",
              "      <td>: “I will continue fighting. I will continue s...</td>\n",
              "      <td>0.312500</td>\n",
              "      <td>0.062500</td>\n",
              "      <td>Positive</td>\n",
              "    </tr>\n",
              "  </tbody>\n",
              "</table>\n",
              "<p>100 rows × 4 columns</p>\n",
              "</div>"
            ],
            "text/plain": [
              "                                               Tweets  ...  Analysis\n",
              "0   Here are five things you should know if you wa...  ...   Neutral\n",
              "1   : 💡 From climateadaptation to genderequality, ...  ...   Neutral\n",
              "2   The technological transformation we need to ad...  ...  Positive\n",
              "3   I had a great time answering questions about m...  ...  Positive\n",
              "4   : It's WorldTBDay\\n\\nEven as we battle COVID19...  ...   Neutral\n",
              "..                                                ...  ...       ...\n",
              "95  This the most important thing the U.S. can do ...  ...  Positive\n",
              "96  I’m inspired by Quarraisha Abdool Karim and . ...  ...  Positive\n",
              "97  : My parents taught me to leave the world bett...  ...  Positive\n",
              "98  I’m a big fan of author _yuval and was excited...  ...  Positive\n",
              "99  : “I will continue fighting. I will continue s...  ...  Positive\n",
              "\n",
              "[100 rows x 4 columns]"
            ]
          },
          "metadata": {
            "tags": []
          },
          "execution_count": 22
        }
      ]
    },
    {
      "cell_type": "code",
      "metadata": {
        "colab": {
          "base_uri": "https://localhost:8080/"
        },
        "id": "kwVJDl-n6478",
        "outputId": "8d8065b8-68c3-46ba-9b85-0a2a77c9db04"
      },
      "source": [
        "# print all positive tweets\n",
        "\n",
        "j = 1\n",
        "sortedDf = df.sort_values(by=['Polarity'])\n",
        "for i in range(0, sortedDf.shape[0]):\n",
        "  if (sortedDf['Analysis'][i] == 'Positive'):\n",
        "    print(str(j)+') '+sortedDf['Tweets'][i])\n",
        "    print()\n",
        "    j += 1"
      ],
      "execution_count": 25,
      "outputs": [
        {
          "output_type": "stream",
          "text": [
            "1) The technological transformation we need to address climate change can create good, safe jobs and build a more equitable, prosperous economy. To make that happen, we need to think big: .co/jFWTPyaOAq .co/PR5sxI7aDt\n",
            "\n",
            "2) I had a great time answering questions about my new book, climate change, and COVID-19 on  last week. Here’s a recap of the conversation. .co/Kvd2blqXkL\n",
            "\n",
            "3) In this video, I answered some really good questions, including one about two really important numbers. Come ask me some questions of your own on  at 11:15: .co/HXMsI0lSK1 .co/SQ4N1MlxGO\n",
            "\n",
            "4) I named my book “How to Avoid a Climate Disaster,” not “How to Stop Climate Change,” because our climate is already changing—and no one will be hurt more by climate change than the world’s poorest people. Here's how we can help them adapt. .co/9mLJUpYErv\n",
            "\n",
            "5) Congratulations  on this important role. I’m excited to see what you and the Earth Fund will achieve. Avoiding a climate disaster is going to take all of us, and I’m grateful for ’s leadership and partnership. .co/QSMBMtfUI1\n",
            "\n",
            "6) Thank you  for a great conversation about climate change and thanks to  and  for hosting the event. .co/mHQ2Adqkro\n",
            "\n",
            "7) Virologist Ruth Bishop pioneered the research that led to the discovery of rotavirus. Her legacy continues both as a role model for other researchers and in the millions of children’s lives that have been saved because of her heroic work: .co/qjroJpzqTc IWD2021 .co/rEtrmXwFxJ\n",
            "\n",
            "8) : On International Women’s Day, join me in celebrating some of the inspiring women who made COVID19 vaccines possible. Know…\n",
            "\n",
            "9) Thank you  for the kind words. Your leadership at the 2015 Paris climate conference helped prove that global cooperation on climate is possible and gives me hope that we can reach our goal of zero emissions. .co/990iHWgQqx\n",
            "\n",
            "10) Moving to a green economy is the biggest challenge the world has ever faced. I’m optimistic we can do it, but need to make sure it benefits everyone—including those workers and communities who depend on the fossil fuels that we need to get rid of. .co/UsjyfdOuQi\n",
            "\n",
            "11) We can’t avoid a climate disaster without corporate leaders making courageous decisions now. I hope to work with  on building the markets for the clean technologies the world needs. Thank you for the kind words, Herbert. .co/BgC6pJoql2\n",
            "\n",
            "12) Delivering vaccines to those who need them most, no matter where they live or how much money they have, is the only way to end the pandemic and begin the recovery. This is an important milestone. .co/PY5kjk63wr\n",
            "\n",
            "13) _H2020    To get to net zero, we need innovation to replace fossil fuels in everyday products like plastics.  is one of the many companies leading on this important work.\n",
            "\n",
            "14) We're fortunate to have an Energy Secretary who's focused on creating high-quality jobs to build a clean energy economy. I look forward to working with  on clean tech innovation and deployment. .co/xFmM5zEIGp\n",
            "\n",
            "15) Thanks  and  for a great conversation about how we can avoid a climate disaster. .co/MJRhbtDCzy\n",
            "\n",
            "16) I’m looking forward to joining  to talk about climate change, our foundation’s work in response to the pandemic, and more. .co/P4PKAq8Bef\n",
            "\n",
            "17) It’s encouraging to have  John Kerry representing the U.S. to the world. Now that we've rejoined the Paris Climate Agreement, it's going to take ambitious action from U.S. leaders and those around the globe to avoid a climate disaster. .co/10FzYE02wm\n",
            "\n",
            "18) Thanks  and  for having me on the show to talk about climate change and COVID-19 – two urgent global issues that need global collaboration. .co/gGH7XR9yGW\n",
            "\n",
            "19)   I always have fun talking to . Thanks for inviting me to talk about climate change and my new book.\n",
            "\n",
            "20) : I’m grateful for new commitments from the EU, Germany, Canada, Japan, and the U.S. to help make safe and effective COVID-…\n",
            "\n",
            "21) I’m inspired by ’s activism and humanitarian work. Thanks to  and  for hosting our discussion about climate change and how everyone can help. .co/tPGhgu8C30\n",
            "\n",
            "22)  Thanks  for talking with me about this challenge and why we need to act now.\n",
            "\n",
            "23) Meaningful action from business leaders will require the courage to take risks that many companies aren't used to taking. .co/bYZNz7Ohf8\n",
            "\n",
            "24) Thanks to , , and everyone who joined our virtual conversation about climate change. Great to have so much support from my hometown for this important work. .co/F2FB6GUIAj\n",
            "\n",
            "25) Great to see this important step as the United States resumes our global leadership on climate change. Looking forward to working with  and Congress on a plan to ensure we reach net zero by 2050. .co/MtqGhBHe5e\n",
            "\n",
            "26) Thanks to  for hosting the launch of my virtual book tour. It was great to hear so many thoughtful questions about what we can all do to help avoid a climate disaster.\n",
            "\n",
            "27) : Bill Gates on Climate Change, Covid and Whether He Has Too Much Influence .co/SIE5MGjff5\n",
            "\n",
            "28) Thanks for inviting me on the podcast, . .co/ZYn05LEoVA\n",
            "\n",
            "29) Thank you, _RDG. We have a lot of work ahead of us to reach net-zero emissions by 2050 and avoid a climate disaster. Your leadership of COP26 is critical. Thanks also to ,  and  for hosting the London stop of my virtual book tour! .co/5mUFZyVDTV\n",
            "\n",
            "30) It was great to talk with  about my new book and the solutions we need to fight climate change. .co/0BCOPPhHeC\n",
            "\n",
            "31)   Thank you  for inviting me to talk about climate change. Solving it won’t be easy, but I believe we can do it.\n",
            "\n",
            "32) Thanks for another great conversation ! .co/aVkqu4Qvsz\n",
            "\n",
            "33)  Thanks for inviting me to be a guest editor. We need every business leader and every industry to play a role in the fight against climate change.\n",
            "\n",
            "34) I had a great time working with  on this special digital issue about climate change. The entire business community has a role to play—and we need to start now. .co/c1rg35e2A8\n",
            "\n",
            "35) How to Avoid a Climate Disaster is available now. I hope you’ll check out the book, but more importantly, I hope you’ll do what you can to help keep the planet livable for generations to come: .co/08U8Bx43eo .co/MRl69gIx2o\n",
            "\n",
            "36) : In a digital cover story, we talked to  about his new book, \"How to Avoid a Climate Disaster.\" .co/9thx4nORe…\n",
            "\n",
            "37) To avoid a climate disaster, we need to eliminate emissions from the ways we create electricity, grow food, make things, move around, and heat and cool our buildings. It won’t be easy, but I believe we can do it. This book is about what it will take. .co/xyzs0x6CwB\n",
            "\n",
            "38) I enjoyed spending time with  recently in Seattle. We talked about why I’m optimistic that the world can get to zero greenhouse gas emissions and avoid a climate disaster: .co/exodP9bavN .co/2t0VncI0pA\n",
            "\n",
            "39) I’m thrilled to join , _RDG, , , , , ,  and Monica Padman, Sal Khan, and Ariel Bissett to discuss how the world can work to avoid a climate disaster: .co/blXhv7fa5l .co/4k8xKEL26f\n",
            "\n",
            "40) When it comes to preventing pandemics, scientific tools alone aren’t enough. We also need new capabilities, including a global alert system and infectious disease first responders (or what I like to call a pandemic fire squad): .co/53Rf5uvjub .co/rTmM7STl6U\n",
            "\n",
            "41) This has been a year unlike any other in our lifetimes. In our new Annual Letter, Melinda and I talk about how we can turn the hard-won lessons of the pandemic into a healthier, more equal future for all. .co/Zt42aWl86x\n",
            "\n",
            "42) : I believe that women can be the architects of a better world. \n",
            "\n",
            "Their stories have instilled in me both a sense of urgenc…\n",
            "\n",
            "43) One of the benefits of being 65 is that I’m eligible for the COVID-19 vaccine. I got my first dose this week, and I feel great. Thank you to all of the scientists, trial participants, regulators, and frontline healthcare workers who got us to this point. .co/67SIfrG1Yd\n",
            "\n",
            "44) It’s great to see President Biden elevate science leadership to a cabinet-level position. Congratulations _lander. .co/V9gBvM4uXT\n",
            "\n",
            "45) And while COVID-19 will rightfully continue to dominate the agenda, the United States also has the opportunity to lead the world in avoiding a climate disaster. The President is taking a great first step by rejoining the Paris Climate Accord.\n",
            "\n",
            "46) With Americans across the country working together, more people get a COVID-19 vaccine every day, bringing us closer to a time when life will look much more like normal. Until then, we can slow the spread of the virus and save lives by continuing to distance and wear masks.\n",
            "\n",
            "47) MLKDay has long been a national day of service. As we celebrate the first without Congressman John Lewis, I'm thinking about his powerful call to remain hopeful about the future as we work to make our country—and our world—a better place. .co/RpmKvrzjPo\n",
            "\n",
            "48) It’s great to see India’s leadership in scientific innovation and vaccine manufacturing capability as the world works to end the COVID-19 pandemic  .co/Ds4f3tmrm3\n",
            "\n",
            "49) : The best emergency system is a strong primary health system—powered by community and frontline health workers. Now is t…\n",
            "\n",
            "50) What does Rashida Jones have on her shopping list? That’s just one of the many questions that didn’t make it into our podcast. You can listen to some of the big questions we did tackle here: .co/RJzHRUPoik .co/yh63b11RSW\n",
            "\n",
            "51) 2021 will be better than 2020. Here’s why: .co/mYbpl5wwF1\n",
            "\n",
            "52) Standing up for science has never been more important. Congratulations to Dr. Anthony Fauci and Dr. Salim Abdool Karim on receiving this honor. .co/XE2NArYcE3\n",
            "\n",
            "53) I've known and learned from  for more than 40 years. I'm glad to see  team up with  to mentor and support companies working to create more economic empowerment opportunities for people across the world. .co/PWK1VeSaxT\n",
            "\n",
            "54) This book has nothing to do with viruses or pandemics. But it is surprisingly relevant for these times.  provides a brilliant and gripping account of another era of widespread anxiety: the years 1940 and 1941. .co/cm6IunxOZL\n",
            "\n",
            "55) Monoclonal antibodies are one of the most promising treatments we have for COVID-19, thanks in large part to R&amp;D by Canadian scientists. Because of their generosity, people all around the world will have access to this potentially lifesaving treatment. .co/2flhbV7e4n\n",
            "\n",
            "56) : We’re looking for new ways to advance AlzheimersResearch. If you have an idea for tools, models, or algorithms that will expa…\n",
            "\n",
            "57) Like many people, I’ve tried to deepen my understanding of systemic racism in recent months. If you’re interested in learning more about the lives caught up in our country's justice system, I highly recommend  by Michelle Alexander. .co/jicgoLZl1j\n",
            "\n",
            "58) The season finale of our podcast features two incredible people who are using their positions as artists to change the world for the better. .co/MWji3SfCtx\n",
            "\n",
            "59) Thanks for the great conversation, Carlos. .co/DaCxoadvH1\n",
            "\n",
            "60) Bill Foege and Viktor Zdanov are phenomenal examples of what it means to harness science for global health. A well-deserved honor. .co/44jYPCZCbt\n",
            "\n",
            "61) Here are five books that I’d recommend as we wrap up 2020. I hope you find something that helps you—or the book lover in your life—finish the year on a good note. .co/9N0hL2xvTQ\n",
            "\n",
            "62) Are we actually making progress on climate change? Can we really prevent a climate disaster? In this week’s podcast, Rashida and I take on perhaps our biggest question yet with Pulitzer Prize-winning author . .co/ugS31mpJin\n",
            "\n",
            "63) This new quiz from  is a clever way to fight misconceptions and “upgrade your worldview” about the incredible progress the world has made toward the Sustainable Development Goals to end poverty, fight inequality, and stop climate change: .co/Qo0oaxv1tb\n",
            "\n",
            "64) Rashida Jones and I talked to Yuval Noah Harari about COVID conspiracy theories, the role social media plays in spreading misinformation, and the one lie I choose to believe even though I know it’s not always true: .co/7pzUFsMf5D .co/YEjZaXLTbJ\n",
            "\n",
            "65) I believe we can avoid a climate disaster—if we deploy the clean-energy tools we have now wisely, and if we make big breakthroughs that touch every aspect of our physical economy. Creating the National Institutes of Energy Innovation would put us on the right path.\n",
            "\n",
            "66) To reduce duplication, focus the government’s efforts, and get the most innovation out of every dollar of funding, we should create a new organization: the National Institutes of Energy Innovation.\n",
            "\n",
            "67) This the most important thing the U.S. can do to lead the world in innovations that will solve climate change. .co/LG9uOnM92r\n",
            "\n",
            "68) I’m inspired by Quarraisha Abdool Karim and . They are two of the most respected HIV/AIDS researchers in the world. And now they are helping guide the COVID-19 response in South Africa and around the globe. .co/1gBweBAneA WorldAIDSDay\n",
            "\n",
            "69) : My parents taught me to leave the world better than I found it. \n",
            "\n",
            "So many people across the country believe in giving bac…\n",
            "\n",
            "70) I’m a big fan of author _yuval and was excited to talk to him about why humanity is so willing to believe falsehoods and what these lies tell us about ourselves—both as individuals and as a society. .co/yREVfCds3v\n",
            "\n",
            "71) : “I will continue fighting. I will continue supporting other patients. I will never give up.”\n",
            "\n",
            "Meet Aftab, a multi-drug resi…\n",
            "\n"
          ],
          "name": "stdout"
        }
      ]
    },
    {
      "cell_type": "code",
      "metadata": {
        "colab": {
          "base_uri": "https://localhost:8080/"
        },
        "id": "7keF94Ae78KQ",
        "outputId": "2e4fbce0-d57b-496f-a5a0-1960e74ad146"
      },
      "source": [
        "# printing negative tweeets\n",
        "\n",
        "j=1\n",
        "sortedDf = df.sort_values(by=['Polarity'],ascending=False)\n",
        "for i in range(0, sortedDf.shape[0]):\n",
        "  if(sortedDf['Analysis'][i] == 'Negative'):\n",
        "    print(str(j)+') '+sortedDf['Tweets'][i])\n",
        "    print()\n",
        "    j += 1"
      ],
      "execution_count": 27,
      "outputs": [
        {
          "output_type": "stream",
          "text": [
            "1) It’s deeply unfair that the people who contribute the least to climate change will suffer the worst from its effects: .co/XciR3lIVzs .co/Y2do5GhsGx\n",
            "\n",
            "2) : Over the past few weeks health workers in Ethiopia 🇪🇹, Nigeria 🇳🇬, Sudan 🇸🇩 and the Philippines 🇵🇭 were vaccinated against COVI…\n",
            "\n",
            "3) For decades, Australian researcher Ruth Bishop led global efforts to identify and combat rotavirus. Her life is a reminder of the importance of scientific research to uncover unknown pathogens and the power of vaccines to prevent suffering and save lives. .co/X5okWwpBbX\n",
            "\n",
            "4) : Black folks have questions about the COVID-19 vaccine. I sat down w/ Black healthcare workers &amp; they answered my questions.…\n",
            "\n",
            "5) Recent extreme weather events are a stark reminder that we’re already seeing the effects of climate change here at home and around the world. This type of observation system will help scientists monitor and predict future weather events. .co/eO4eKSDRn0\n",
            "\n",
            "6) There are several ways individuals can help move us closer to a zero-carbon future. Here are a few: .co/oTQ5ebQ4yp .co/V3TBVjfZlp\n",
            "\n",
            "7) : The Weekly Planet: Lately, Bill Gates has been thinking about what he calls the “hard stuff” of climate change. These hard…\n",
            "\n",
            "8) : \"People who think a plan is easy are wrong. People who think a plan is impossible are wrong. It's super hard and very broad,…\n",
            "\n",
            "9) : Only 3% of Black students learn computer science in high school or beyond. Please watch and share this video. Inspire a studen…\n",
            "\n",
            "10) COVID-19 has cost lives, sickened millions, and thrust the global economy into a devastating recession. But hope is on the horizon: .co/clsscPwQUD .co/sNl4kT9bE3\n",
            "\n",
            "11) Here are four other ways that America can advance its leadership on climate change this year and put the world on a path to zero emissions by 2050: .co/vxEjYjqAaD .co/GkzumHP4wf\n",
            "\n",
            "12) The President’s commitment to reengage with the world gives me hope that the recovery will reach everyone, including communities of color in the U.S. and people in poor countries around the world.\n",
            "\n",
            "13) We need to revolutionize the world’s physical economy—and that will take, among other things, a dramatic infusion of ingenuity, funding, and focus from the federal government.\n",
            "\n"
          ],
          "name": "stdout"
        }
      ]
    },
    {
      "cell_type": "code",
      "metadata": {
        "colab": {
          "base_uri": "https://localhost:8080/"
        },
        "id": "L0UggrfG9n6m",
        "outputId": "b2fafe48-bb3c-47c9-83fc-d39d3aae0f55"
      },
      "source": [
        "# printing neutral tweeets\n",
        "\n",
        "j=1\n",
        "sortedDf = df.sort_values(by=['Polarity'],ascending=False)\n",
        "for i in range(0, sortedDf.shape[0]):\n",
        "  if(sortedDf['Analysis'][i] == 'Neutral'):\n",
        "    print(str(j)+') '+sortedDf['Tweets'][i])\n",
        "    print()\n",
        "    j += 1"
      ],
      "execution_count": 28,
      "outputs": [
        {
          "output_type": "stream",
          "text": [
            "1) Here are five things you should know if you want to understand how variants are (and aren’t) complicating the pandemic. .co/rANiDcZynJ\n",
            "\n",
            "2) : 💡 From climateadaptation to genderequality, discover ’s 50 years of innovations that changed the world 🌎 🎉: .co…\n",
            "\n",
            "3) : It's WorldTBDay\n",
            "\n",
            "Even as we battle COVID19, we must not ease up the fight against Tuberculosis, which remains the 🌎🌍🌏’s deadlie…\n",
            "\n",
            "4) I’m answering your questions now on : .co/HXMsI0lSK1 .co/XG7eAMNrGM\n",
            "\n",
            "5) After you finish your pancakes this morning, come ask me anything on  at 11:15 Pacific Time: .co/R3wfDhtqxD .co/fAPRPUWQtu\n",
            "\n",
            "6) : Speaking from villages, riverbanks and rural clinics, frontline health workers and malaria volunteers share stories of what…\n",
            "\n",
            "7)   Thank you for your partnership, , and for sharing what all of us can do to avoid a climate disaster.\n",
            "\n",
            "8) When I talk to people about climate change, I almost always get asked the same question: What can I do to help? Here are some actions individuals can take to move us closer to a zero-carbon future: .co/ALBni7g2IP\n",
            "\n",
            "9) : At Breakthrough Energy, we don’t just think about how to get to zero. We help make it happen. Working at the intersection…\n",
            "\n",
            "10) I wrote How to Avoid a Climate Disaster because I see not just the problem of climate change; I also see an opportunity to solve it. Here’s how: .co/3X4ihy9hMf .co/QoMRuQ1g9x\n",
            "\n",
            "11) The world’s power to invent makes me hopeful about climate change. Breakthrough Energy supports the innovations that will lead the world to net-zero emissions. .co/yBb8HMKAmJ\n",
            "\n",
            "12) : In 2020, global health went local. \n",
            "\n",
            "COVID-19 has shown us that what happens in one part of the world matters to the rest…\n",
            "\n",
            "13) : After being sworn in this morning, I'm honored to share that I've been appointed by  as the President’s Malaria Coord…\n",
            "\n",
            "14) I look forward to working with President  and Vice President  to tackle some of our toughest challenges like COVID-19 and climate change. This has been a troubling time in America, but I see promise in the months and years ahead.\n",
            "\n",
            "15) : Since 2000, the malaria community has worked together to prevent 1.5 billion cases of malaria &amp; save 7.6 million lives…\n",
            "\n",
            "16) : We must ensure these innovations reach everyone, not just those who can afford to pay. Our newest commitment to the CO…\n",
            "\n"
          ],
          "name": "stdout"
        }
      ]
    },
    {
      "cell_type": "code",
      "metadata": {
        "colab": {
          "base_uri": "https://localhost:8080/",
          "height": 405
        },
        "id": "JDFRUjq0-ha2",
        "outputId": "a1531980-4bf1-42d0-ed99-09080b2250cc"
      },
      "source": [
        "# plot the polarity and subjectivity\n",
        "plt.figure(figsize=(8,6))\n",
        "for i in range(0, sortedDf.shape[0]):\n",
        "  plt.scatter(df['Polarity'][i],df['Subjectivity'][i],color='Blue')\n",
        "plt.title('Sentiment Analysis')\n",
        "plt.xlabel('polarity')\n",
        "plt.ylabel('subjectivity')\n",
        "plt.show()"
      ],
      "execution_count": 29,
      "outputs": [
        {
          "output_type": "display_data",
          "data": {
            "image/png": "[encoded data removed]",
            "text/plain": [
              "<Figure size 576x432 with 1 Axes>"
            ]
          },
          "metadata": {
            "tags": [],
            "needs_background": "light"
          }
        }
      ]
    },
    {
      "cell_type": "code",
      "metadata": {
        "colab": {
          "base_uri": "https://localhost:8080/"
        },
        "id": "5gxj5aKmBgzz",
        "outputId": "39f86798-db69-48cf-a5b0-cd6efd57c653"
      },
      "source": [
        "ptweets = df[df['Analysis'] == 'Positive']\n",
        "ptweets = ptweets['Tweets']\n",
        "ptweets"
      ],
      "execution_count": 34,
      "outputs": [
        {
          "output_type": "execute_result",
          "data": {
            "text/plain": [
              "2     The technological transformation we need to ad...\n",
              "3     I had a great time answering questions about m...\n",
              "6     In this video, I answered some really good que...\n",
              "10    I named my book “How to Avoid a Climate Disast...\n",
              "11    Congratulations  on this important role. I’m e...\n",
              "                            ...                        \n",
              "95    This the most important thing the U.S. can do ...\n",
              "96    I’m inspired by Quarraisha Abdool Karim and . ...\n",
              "97    : My parents taught me to leave the world bett...\n",
              "98    I’m a big fan of author _yuval and was excited...\n",
              "99    : “I will continue fighting. I will continue s...\n",
              "Name: Tweets, Length: 71, dtype: object"
            ]
          },
          "metadata": {
            "tags": []
          },
          "execution_count": 34
        }
      ]
    },
    {
      "cell_type": "code",
      "metadata": {
        "colab": {
          "base_uri": "https://localhost:8080/"
        },
        "id": "sr7oJQs_CD30",
        "outputId": "178c4620-5618-413f-87fc-f62e94c160b0"
      },
      "source": [
        "round((ptweets.shape[0]/df.shape[0])*100, 1)"
      ],
      "execution_count": 36,
      "outputs": [
        {
          "output_type": "execute_result",
          "data": {
            "text/plain": [
              "71.0"
            ]
          },
          "metadata": {
            "tags": []
          },
          "execution_count": 36
        }
      ]
    },
    {
      "cell_type": "code",
      "metadata": {
        "colab": {
          "base_uri": "https://localhost:8080/"
        },
        "id": "3-FdHZ_nCkP-",
        "outputId": "fac0834b-3411-49b2-be6f-62f2e0dd637e"
      },
      "source": [
        "ntweets = df[df['Analysis'] == 'Negative']\n",
        "ntweets = ntweets['Tweets']\n",
        "round((ntweets.shape[0]/df.shape[0])*100, 1)"
      ],
      "execution_count": 37,
      "outputs": [
        {
          "output_type": "execute_result",
          "data": {
            "text/plain": [
              "13.0"
            ]
          },
          "metadata": {
            "tags": []
          },
          "execution_count": 37
        }
      ]
    },
    {
      "cell_type": "code",
      "metadata": {
        "colab": {
          "base_uri": "https://localhost:8080/"
        },
        "id": "9JsASRzRC95j",
        "outputId": "1a9c6afa-0b82-493e-d288-6ef8477b5e87"
      },
      "source": [
        "nutweets = df[df['Analysis'] == 'Neutral']\n",
        "nutweets = nutweets['Tweets']\n",
        "round((nutweets.shape[0]/df.shape[0])*100, 1)"
      ],
      "execution_count": 38,
      "outputs": [
        {
          "output_type": "execute_result",
          "data": {
            "text/plain": [
              "16.0"
            ]
          },
          "metadata": {
            "tags": []
          },
          "execution_count": 38
        }
      ]
    },
    {
      "cell_type": "code",
      "metadata": {
        "colab": {
          "base_uri": "https://localhost:8080/",
          "height": 331
        },
        "id": "fNbkRGqFDGA6",
        "outputId": "a44d9c03-7e94-4405-8c8f-c9515cfe73c8"
      },
      "source": [
        "df['Analysis'].value_counts()\n",
        "\n",
        "plt.title(\"sentiment Analysis\")\n",
        "plt.xlabel('sentiment')\n",
        "plt.ylabel('counts')\n",
        "df['Analysis'].value_counts().plot(kind='bar')\n",
        "plt.show()"
      ],
      "execution_count": 39,
      "outputs": [
        {
          "output_type": "display_data",
          "data": {
            "image/png": "[encoded data removed]",
            "text/plain": [
              "<Figure size 432x288 with 1 Axes>"
            ]
          },
          "metadata": {
            "tags": [],
            "needs_background": "light"
          }
        }
      ]
    },
    {
      "cell_type": "code",
      "metadata": {
        "id": "vnXvDuEhDm1u"
      },
      "source": [
        ""
      ],
      "execution_count": null,
      "outputs": []
    }
  ]
}